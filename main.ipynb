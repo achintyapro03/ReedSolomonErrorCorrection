{
  "nbformat": 4,
  "nbformat_minor": 0,
  "metadata": {
    "colab": {
      "provenance": []
    },
    "kernelspec": {
      "name": "python3",
      "display_name": "Python 3"
    },
    "language_info": {
      "name": "python"
    }
  },
  "cells": [
    {
      "cell_type": "markdown",
      "source": [
        "#A Computational Introduction to Number Theory (SM404) - **Assignment**:#\n",
        "\n",
        "###**Team Members** : ###\n",
        "1. Achintya Harsha (IMT2021525)\n",
        "2. Devendra Rishi Nelapati (IMT2021076)"
      ],
      "metadata": {
        "id": "yPGIL6UXVAnF"
      }
    },
    {
      "cell_type": "code",
      "source": [
        "# installing necessary libraries\n",
        "!pip install gmpy2"
      ],
      "metadata": {
        "colab": {
          "base_uri": "https://localhost:8080/"
        },
        "id": "uEb9xMLjWGxR",
        "outputId": "1f829daf-6518-45c9-ebeb-3446e44136a7"
      },
      "execution_count": 13,
      "outputs": [
        {
          "output_type": "stream",
          "name": "stdout",
          "text": [
            "Looking in indexes: https://pypi.org/simple, https://us-python.pkg.dev/colab-wheels/public/simple/\n",
            "Requirement already satisfied: gmpy2 in /usr/local/lib/python3.10/dist-packages (2.1.5)\n"
          ]
        }
      ]
    },
    {
      "cell_type": "code",
      "source": [
        "# importing required libraries\n",
        "from random import randint\n",
        "from math import floor\n",
        "from gmpy2 import is_prime"
      ],
      "metadata": {
        "id": "EL4IYxeWWj0a"
      },
      "execution_count": 14,
      "outputs": []
    },
    {
      "cell_type": "markdown",
      "source": [
        "###Class that has functions the implement Reed solomon error correction ###"
      ],
      "metadata": {
        "id": "A5A4EqA8amtV"
      }
    },
    {
      "cell_type": "code",
      "source": [
        "class ReedSolomon():\n",
        "    # initialization function\n",
        "    def __init__(self):\n",
        "        self.k = 0\n",
        "        self.u = 0\n",
        "        self.l = 0\n",
        "        self.P = 1\n",
        "        self.n = 1\n",
        "        self.primes = []\n",
        "\n",
        "    # egcd function that implements rational reconstruction\n",
        "    def egcd(self, a, b):\n",
        "        x0, x1, y0, y1 = 0, 1, 1, 0\n",
        "        while a != 0:\n",
        "            # loop breaks when a becomes less than M*P\n",
        "            if(a < self.M * self.P):\n",
        "                return a, y0\n",
        "            q, b, a = b // a, a, b % a\n",
        "            x0, x1 = x1 - q * x0, x0\n",
        "            y0, y1 = y1 - q * y0, y0\n",
        "        return a, y0\n",
        "\n",
        "    def dBy2(self, a):\n",
        "        return not(a % 2)\n",
        "\n",
        "    # binary egcd implementation\n",
        "    def binaryEGCD(self, a, b):\n",
        "        r0, r1, e = a, b, 0\n",
        "        s0, s1 = 1, 0\n",
        "        t0, t1 = 0, 1\n",
        "\n",
        "        while self.dBy2(r0) and self.dBy2(r1):\n",
        "            r0, r1 = r0 >> 1, r1 >> 1\n",
        "            e += 1\n",
        "\n",
        "        aNew, bNew = r0, r1\n",
        "\n",
        "        while r1 > 0:\n",
        "            while self.dBy2(r0): \n",
        "                r0 = r0 >> 1\n",
        "                if(self.dBy2(s0) and self.dBy2(t0)):\n",
        "                    s0, t0 = s0 >> 1, t0 >> 1\n",
        "                else:\n",
        "                    s0, t0 = (s0 + bNew) >> 1, (t0 - aNew) >> 1\n",
        "\n",
        "            while self.dBy2(r1): \n",
        "                r1 = r1 >> 1\n",
        "                if(self.dBy2(s1) and self.dBy2(t1)):\n",
        "                    s1, t1 = s1 >> 1, t1 >> 1\n",
        "                else:\n",
        "                    s1, t1 = (s1 + bNew) >> 1, (t1 - aNew) >> 1\n",
        "\n",
        "            if(r1 < r0):\n",
        "                r0, r1 = r1, r0\n",
        "                s0, s1 = s1, s0\n",
        "                t0, t1 = t1, t0\n",
        "            r1 = r1 - r0\n",
        "            s1 = s1 - s0\n",
        "            t1 = t1 - t0\n",
        "\n",
        "        return ((2**e)*r0, s0 , t0)\n",
        "\n",
        "    # function that returns a prime number in a particular range\n",
        "    def generatePrime(self, low, high):\n",
        "        while True:\n",
        "            prime = randint(low, high)\n",
        "            if(prime in self.primes):\n",
        "                continue\n",
        "            if is_prime(prime):\n",
        "                return prime\n",
        "\n",
        "    # global setup function that sets all parameters for the Reed Solomon\n",
        "    # error coreection model\n",
        "    def golbalSetup(self, k, u, M):\n",
        "        self.k = k # total number of codes\n",
        "        self.u = u # corruption factor\n",
        "        self.M = M # Upper bound of message input\n",
        "        self.l = floor(k * u) # number of codes with errors\n",
        "\n",
        "        # k primes are generated and stored in an array\n",
        "        while(len(self.primes) < self.k):\n",
        "            self.primes.append(self.generatePrime(10000, 50000))\n",
        "\n",
        "        # primes are stroed in decreasing order\n",
        "        self.primes.sort(reverse=True)\n",
        "\n",
        "        print(f\"Primes chosen n_k : {self.primes}\")\n",
        "        \n",
        "        # P value is calculated\n",
        "        # P = product of l largest primes\n",
        "        for i in range(self.l):\n",
        "            self.P *= self.primes[i]\n",
        "\n",
        "        # product of all primes calculated\n",
        "        for i in range(self.k):\n",
        "            self.n *= self.primes[i]\n",
        "\n",
        "\n",
        "    def crt(self, coefficients, primes):\n",
        "        product = self.n\n",
        "        result = 0\n",
        "        idx = 0\n",
        "\n",
        "        # crt calculated by using egcd to get the \n",
        "        # inverse of the number mod ni\n",
        "        for coefficient in coefficients:\n",
        "            ni = product // primes[idx]\n",
        "            _, ni_inv, _ = self.binaryEGCD(ni, primes[idx])\n",
        "            result += coefficient * ni * ni_inv\n",
        "            idx += 1\n",
        "\n",
        "        return result % product\n",
        "\n",
        "    def transmit(self, ai):\n",
        "        chosen = []\n",
        "        bi = []\n",
        "\n",
        "        # choosing error indexes\n",
        "        while(len(chosen) < self.l):\n",
        "            r = randint(0, self.k - 1)\n",
        "            if(r not in chosen):\n",
        "                chosen.append(r)\n",
        "\n",
        "        # introducing errors in transmission codes\n",
        "        # at l indexes randomly chosen\n",
        "        print(f\"Chosen error indexes : {chosen}\")\n",
        "        i = 0\n",
        "        while(i < self.k):\n",
        "            if(i in chosen):\n",
        "                bi.append(randint(100, 500))\n",
        "            else:\n",
        "                bi.append(ai[i])\n",
        "            i += 1\n",
        "        \n",
        "        print(f\"Transmitted codes with errors : {bi}\")\n",
        "        return bi\n",
        "\n",
        "\n",
        "    def ReedSolomonSend(self, a):\n",
        "        ai = []\n",
        "\n",
        "        # codes are generated by taking mod of the input message\n",
        "        # with the k chosen primes\n",
        "        for i in range(self.k):\n",
        "            ai.append(a % self.primes[i])\n",
        "        print(f\"a mod ni array : {ai}\")\n",
        "        return self.transmit(ai)\n",
        "\n",
        "    def ReedSolomonReceive(self, bi):\n",
        "        # b value calculated using crt between bi's(the received codes)\n",
        "        # and the k chosen primes\n",
        "        b = self.crt(bi, self.primes)\n",
        "\n",
        "        # r' and t' are calculated using rational reconstruction\n",
        "        rDash, tDash = self.egcd(b, self.n)\n",
        "\n",
        "        # the orignal message is returned if reconctruction is possible\n",
        "        if(tDash == 0):\n",
        "            return rDash\n",
        "        elif(rDash % tDash == 0):\n",
        "            return rDash // tDash\n",
        "        else:\n",
        "            # else errore is returned\n",
        "            return \"Error\""
      ],
      "metadata": {
        "id": "rb3weGHVWvoM"
      },
      "execution_count": 20,
      "outputs": []
    },
    {
      "cell_type": "markdown",
      "source": [
        "###Testing Reed Solomon Error correction###"
      ],
      "metadata": {
        "id": "PWTdH1pJa4Ok"
      }
    },
    {
      "cell_type": "code",
      "source": [
        "k = int(input(\"Enter number of codes (number of primes) : \"))\n",
        "u = float(input(\"Corruption percenatge - (0 - 1) : \"))\n",
        "M = 10**20\n",
        "\n",
        "reedSol = ReedSolomon()\n",
        "reedSol.golbalSetup(k, u, M)\n",
        "\n",
        "while True:\n",
        "    msg = int(input(\"\\nEnter the message(Integer) you wish to send :\"))\n",
        "    \n",
        "    print(\"\\n********************************************************************************************************\")\n",
        "    rcvMsg = reedSol.ReedSolomonSend(msg)\n",
        "    \n",
        "    decodedMsg = reedSol.ReedSolomonReceive(rcvMsg)\n",
        "    print(\"********************************************************************************************************\\n\")\n",
        "\n",
        "    print(f\"Received message : {decodedMsg}\\n################\\n\")"
      ],
      "metadata": {
        "id": "KSGG75Hqa_N8"
      },
      "execution_count": null,
      "outputs": []
    }
  ]
}